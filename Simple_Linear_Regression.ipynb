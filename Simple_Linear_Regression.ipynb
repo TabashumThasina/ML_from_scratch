{
  "nbformat": 4,
  "nbformat_minor": 0,
  "metadata": {
    "colab": {
      "provenance": []
    },
    "kernelspec": {
      "name": "python3",
      "display_name": "Python 3"
    },
    "language_info": {
      "name": "python"
    }
  },
  "cells": [
    {
      "cell_type": "markdown",
      "source": [
        "##Linear Regession"
      ],
      "metadata": {
        "id": "OO7Ur2phvGbz"
      }
    },
    {
      "cell_type": "markdown",
      "source": [
        "This notebook I will explore Linear Regression from sctrach to understand the \n",
        "\n",
        "*   How to use the training data to estimate \n",
        "*   Understanding of linear co-efficient\n",
        "*   Prediction from test data\n",
        "\n",
        "I will take help from below links\n",
        "\n",
        "https://machinelearningmastery.com/implement-simple-linear-regression-scratch-python/\n",
        "\n",
        "\n",
        "\n",
        "\n"
      ],
      "metadata": {
        "id": "aLqvyysCuUpm"
      }
    },
    {
      "cell_type": "markdown",
      "source": [
        "Linear regression assumes a linear or straight line relationship between the input variables (X) and the single output variable (y).\n",
        "\n",
        "More specifically, that output (y) can be calculated from a linear combination of the input variables (X). When there is a single input variable, the method is referred to as a simple linear regression.\n",
        "\n",
        "In simple linear regression we can use statistics on the training data to estimate the coefficients required by the model to make predictions on new data.\n",
        "\n",
        "The line for a simple linear regression model can be written as:\n",
        "          \n",
        "          y=b0+b1*x\n",
        "\n",
        "where b0 and b1 are the coefficients we must estimate from the training data.\n",
        "\n",
        "Once the coefficients are known, we can use this equation to estimate output values for y given new input examples of x.\n",
        "\n",
        "Briefly, we can estimate the coefficients as follows:\n",
        "\n",
        "  \n",
        "    B1 = sum((x(i) - mean(x)) * (y(i) - mean(y))) / sum( (x(i) - mean(x))^2 )\n",
        "    B0 = mean(y) - B1 * mean(x)"
      ],
      "metadata": {
        "id": "gljQmkgEyEmB"
      }
    },
    {
      "cell_type": "markdown",
      "source": [
        "I will use insurance dataset of 10 records, where one varaible is age, another one is number of claims and predicted value will be charges"
      ],
      "metadata": {
        "id": "EW47jT_GxxIg"
      }
    },
    {
      "cell_type": "code",
      "source": [
        "ages=[19, 18, 28, 33, 32, 31, 46, 37, 37]\n",
        "charges=[16.924, 1.5523, 4.462, 21.47061, 3.8552, 3.6216, 8.5896, 7.5056, 6.4107]\n",
        "claims=[16, 1, 4, 21, 3, 3, 8, 7, 6]"
      ],
      "metadata": {
        "id": "VFXhmr0pvNWY"
      },
      "execution_count": null,
      "outputs": []
    },
    {
      "cell_type": "code",
      "source": [
        "## we will visulize for two varaible\n",
        "import matplotlib.pyplot as plt\n",
        "plt.scatter(ages,charges)\n",
        "plt.xlabel('Age')\n",
        "plt.ylabel('Charges')\n",
        "plt.title('Age vs Charges')\n",
        "plt.show()\n",
        "\n",
        "plt.scatter(claims,charges)\n",
        "plt.xlabel('Claim')\n",
        "plt.ylabel('Charges')\n",
        "plt.title('Claim vs Charges')\n",
        "plt.show()"
      ],
      "metadata": {
        "colab": {
          "base_uri": "https://localhost:8080/",
          "height": 573
        },
        "id": "a9fBS_BVyIbH",
        "outputId": "cb539062-5d1e-4bb9-9d8a-055ef401f353"
      },
      "execution_count": null,
      "outputs": [
        {
          "output_type": "display_data",
          "data": {
            "text/plain": [
              "<Figure size 432x288 with 1 Axes>"
            ],
            "image/png": "[encoded data removed]"
          },
          "metadata": {
            "needs_background": "light"
          }
        },
        {
          "output_type": "display_data",
          "data": {
            "text/plain": [
              "<Figure size 432x288 with 1 Axes>"
            ],
            "image/png": "[encoded data removed]"
          },
          "metadata": {
            "needs_background": "light"
          }
        }
      ]
    },
    {
      "cell_type": "markdown",
      "source": [
        "### Calculate Mean and Variance"
      ],
      "metadata": {
        "id": "9T4kPZjr3A61"
      }
    },
    {
      "cell_type": "code",
      "source": [
        "## mean function\n",
        "\n",
        "def mean(x):\n",
        "  sums=0.0\n",
        "  l=0.0\n",
        "  for i in x:\n",
        "    sums=i+sums\n",
        "    l=l+1.0\n",
        "  return sums/l\n",
        "  \n",
        "def variance(x, mean):\n",
        "  sums=0\n",
        "  for i in x:\n",
        "    sums=sums+((i-mean)*(i-mean))\n",
        "\n",
        "  return sums\n"
      ],
      "metadata": {
        "id": "vVlehqr004-c"
      },
      "execution_count": null,
      "outputs": []
    },
    {
      "cell_type": "code",
      "source": [
        "mean_age, mean_claim, mean_charges = mean(ages), mean(claims), mean(charges)\n",
        "var_age, var_claim, var_charges = variance(ages, mean_age), variance(claims, mean_claim), variance(charges, mean_charges)\n",
        "print('Age stats: mean=%.3f variance=%.3f' % (mean_age, var_age))\n",
        "print('Claims stats: mean=%.3f variance=%.3f' % (mean_claim,  var_claim))\n",
        "print('Charges stats: mean=%.3f variance=%.3f' % (mean_charges,  var_charges))\n"
      ],
      "metadata": {
        "colab": {
          "base_uri": "https://localhost:8080/"
        },
        "id": "TEzY3YsP1c2O",
        "outputId": "841ba2ff-bb30-4ed1-d665-1d66ae53ae2a"
      },
      "execution_count": null,
      "outputs": [
        {
          "output_type": "stream",
          "name": "stdout",
          "text": [
            "Age stats: mean=31.222 variance=623.556\n",
            "Claims stats: mean=7.667 variance=352.000\n",
            "Charges stats: mean=8.266 variance=354.018\n"
          ]
        }
      ]
    },
    {
      "cell_type": "markdown",
      "source": [
        "### Calculate Covariance\n",
        "\n"
      ],
      "metadata": {
        "id": "_tdGUMkI3YD-"
      }
    },
    {
      "cell_type": "markdown",
      "source": [
        "The covariance of two groups of numbers describes how those numbers change together.\n",
        "\n",
        "Covariance is a generalization of correlation. Correlation describes the relationship between two groups of numbers, whereas covariance can describe the relationship between two or more groups of numbers.\n",
        "\n",
        "Additionally, covariance can be normalized to produce a correlation value.\n",
        "\n",
        "Nevertheless, we can calculate the covariance between two variables as follows:\n",
        "\n",
        "    covariance = sum((x(i) - mean(x)) * (y(i) - mean(y)))"
      ],
      "metadata": {
        "id": "5gpH8mP134tx"
      }
    },
    {
      "cell_type": "code",
      "source": [
        "def covariance(x, mean_x, y, mean_y):\n",
        "  if(len(x)!=len(y)):\n",
        "    print(\"Sample Size is not equal\")\n",
        "    return 0\n",
        "  else:\n",
        "    sums=0\n",
        "    for i in range(len(x)):\n",
        "      sums=sums+((x[i]-mean_x)/(y[i]-mean_y))\n",
        "    return sums"
      ],
      "metadata": {
        "id": "9cCOJdQ137rV"
      },
      "execution_count": null,
      "outputs": []
    },
    {
      "cell_type": "code",
      "source": [
        "covariance(ages, mean_age, charges, mean_charges)"
      ],
      "metadata": {
        "colab": {
          "base_uri": "https://localhost:8080/"
        },
        "id": "z9267IKn4YB0",
        "outputId": "0d52908d-b6f7-4b02-bc30-ee7b15f12a8e"
      },
      "execution_count": null,
      "outputs": [
        {
          "output_type": "execute_result",
          "data": {
            "text/plain": [
              "36.32486529735663"
            ]
          },
          "metadata": {},
          "execution_count": 260
        }
      ]
    },
    {
      "cell_type": "markdown",
      "source": [
        "### Estimate Coefficient"
      ],
      "metadata": {
        "id": "u7sAx9ah40X4"
      }
    },
    {
      "cell_type": "markdown",
      "source": [
        "As above section we can see the B1 equation was\n",
        "    \n",
        "    B1 = sum((x(i) - mean(x)) * (y(i) - mean(y))) / sum( (x(i) - mean(x))^2 )\n",
        "\n",
        "We can simplfy the equation using\n",
        "\n",
        "    B1 = cov(x,y)/ var(x)\n",
        "    B0 = mean(y) - B1 * mean(x)"
      ],
      "metadata": {
        "id": "SM_LG5Tj45GZ"
      }
    },
    {
      "cell_type": "code",
      "source": [
        "def coefficient(x, y):\n",
        "  x_mean = mean(x)\n",
        "  y_mean = mean(y)\n",
        "  B1 = covariance(x, x_mean, y, y_mean)/variance(x, x_mean)\n",
        "\n",
        "  B0 = mean(y) - (B1*mean(x))\n",
        "\n",
        "  return B0, B1"
      ],
      "metadata": {
        "id": "vcFd3DZw5T06"
      },
      "execution_count": null,
      "outputs": []
    },
    {
      "cell_type": "code",
      "source": [
        "coefficient(ages, charges)"
      ],
      "metadata": {
        "colab": {
          "base_uri": "https://localhost:8080/"
        },
        "id": "Gnvq36L05ymz",
        "outputId": "dbecb361-aef8-4acc-ddef-50cc121c280d"
      },
      "execution_count": null,
      "outputs": [
        {
          "output_type": "execute_result",
          "data": {
            "text/plain": [
              "(6.4469020943807935, 0.05825441690595327)"
            ]
          },
          "metadata": {},
          "execution_count": 262
        }
      ]
    },
    {
      "cell_type": "markdown",
      "source": [
        "###Prediction"
      ],
      "metadata": {
        "id": "v_oyYQIQ6GDL"
      }
    },
    {
      "cell_type": "markdown",
      "source": [
        "The simple linear regression model is a line defined by coefficients estimated from training data.\n",
        "\n",
        "Once the coefficients are estimated, we can use them to make predictions.\n",
        "\n",
        "The equation to make predictions with a simple linear regression model is as follows:\n",
        "\n",
        "    y = b0 + b1 * x"
      ],
      "metadata": {
        "id": "qpKDvsrX6E-Q"
      }
    },
    {
      "cell_type": "code",
      "source": [
        "def prediction(train, test):\n",
        "  x=train[0]\n",
        "  y=train[1]\n",
        "  b0, b1 = coefficient(x,y)\n",
        "\n",
        "  predictions = []\n",
        "  for row in test[0]:\n",
        "    yhat = b0 + b1 * row\n",
        "    predictions.append(yhat)\n",
        "  \n",
        "  return predictions\n"
      ],
      "metadata": {
        "id": "7q_HK4Sv6TPM"
      },
      "execution_count": null,
      "outputs": []
    },
    {
      "cell_type": "markdown",
      "source": [
        "to make prediction creating test cases and stacking into one numpy array"
      ],
      "metadata": {
        "id": "2aa_Nthk-3wk"
      }
    },
    {
      "cell_type": "code",
      "source": [
        "test_ages=[60, 25, 62, 23, 56]\n",
        "test_charges=[28.13692, 2.3208, 27.7251, 1.843, 11.7178]\n",
        "test_claims=[28,2,27,1,11]"
      ],
      "metadata": {
        "id": "VdSdc_3c8h8L"
      },
      "execution_count": null,
      "outputs": []
    },
    {
      "cell_type": "code",
      "source": [
        "import numpy as np\n",
        "train = np.stack((ages, charges))\n",
        "test = np.stack((test_ages, test_charges))\n",
        "prediction(train, test)"
      ],
      "metadata": {
        "colab": {
          "base_uri": "https://localhost:8080/"
        },
        "id": "vhk_Zcfh6oWL",
        "outputId": "71795cca-60fe-47a3-a586-6775ea5199d3"
      },
      "execution_count": null,
      "outputs": [
        {
          "output_type": "execute_result",
          "data": {
            "text/plain": [
              "[9.94216710873799,\n",
              " 7.903262517029625,\n",
              " 10.058675942549897,\n",
              " 7.786753683217719,\n",
              " 9.709149441114176]"
            ]
          },
          "metadata": {},
          "execution_count": 265
        }
      ]
    },
    {
      "cell_type": "markdown",
      "source": [
        "### Evaluate "
      ],
      "metadata": {
        "id": "Me3W0gRWEu7T"
      }
    },
    {
      "cell_type": "markdown",
      "source": [
        "using mean rmse squre root error"
      ],
      "metadata": {
        "id": "rCoybKAgFtc6"
      }
    },
    {
      "cell_type": "code",
      "source": [
        "# Standalone simple linear regression example\n",
        "from math import sqrt\n",
        " \n",
        "# Calculate root mean squared error\n",
        "def rmse_metric(actual, predicted):\n",
        " sum_error = 0.0\n",
        " for i in range(len(actual)):\n",
        "  prediction_error = predicted[i] - actual[i]\n",
        "  sum_error += (prediction_error ** 2)\n",
        " mean_error = sum_error / float(len(actual))\n",
        " return sqrt(mean_error)\n",
        " \n",
        "# Evaluate regression algorithm on training dataset\n",
        "def evaluate_algorithm(train,test):\n",
        " \n",
        " predicted=prediction(train, test)\n",
        " print(rmse_metric(test[1],predicted))\n",
        " "
      ],
      "metadata": {
        "id": "XCn-6z7GExTs"
      },
      "execution_count": null,
      "outputs": []
    },
    {
      "cell_type": "code",
      "source": [
        "evaluate_algorithm(train,test)"
      ],
      "metadata": {
        "colab": {
          "base_uri": "https://localhost:8080/"
        },
        "id": "6I8aiSEmFWTC",
        "outputId": "11065614-09eb-48ad-9004-a8c681044ea9"
      },
      "execution_count": null,
      "outputs": [
        {
          "output_type": "stream",
          "name": "stdout",
          "text": [
            "11.947203391758729\n"
          ]
        }
      ]
    },
    {
      "cell_type": "markdown",
      "source": [
        "### Putting it all together for another variable"
      ],
      "metadata": {
        "id": "6eJpWAhlFsHi"
      }
    },
    {
      "cell_type": "code",
      "source": [
        "from math import sqrt\n",
        "import numpy as np\n",
        "\n",
        "def mean(x):\n",
        "  sums=0.0\n",
        "  l=0.0\n",
        "  for i in x:\n",
        "    sums=i+sums\n",
        "    l=l+1.0\n",
        "  return sums/l\n",
        "  \n",
        "def variance(x, mean):\n",
        "  sums=0\n",
        "  for i in x:\n",
        "    sums=sums+((i-mean)*(i-mean))\n",
        "\n",
        "  return sums\n",
        "\n",
        "def covariance(x, mean_x, y, mean_y):\n",
        "  if(len(x)!=len(y)):\n",
        "    print(\"Sample Size is not equal\")\n",
        "    return 0\n",
        "  else:\n",
        "    sums=0\n",
        "    for i in range(len(x)):\n",
        "      sums=sums+((x[i]-mean_x)*(y[i]-mean_y))\n",
        "    \n",
        "    return sums\n",
        "\n",
        "def coefficient(x, y):\n",
        "  x_mean = mean(x)\n",
        "  y_mean = mean(y)\n",
        "  print(\"corr\",covariance(x, x_mean, y, y_mean))\n",
        "  print(\"varaince\",variance(x, x_mean))\n",
        "  B1 = covariance(x, x_mean, y, y_mean)/variance(x, x_mean)\n",
        "\n",
        "  B0 = mean(y) - (B1*mean(x))\n",
        "\n",
        "  return B0, B1\n",
        "\n",
        "def prediction(train, test):\n",
        "  x=train[0]\n",
        "  y=train[1]\n",
        "  b0, b1 = coefficient(x,y)\n",
        "  print(\"coef, intercept, \", b0,b1)\n",
        "  predictions = []\n",
        "  for row in test[0]:\n",
        "    yhat = b0 + b1 * row\n",
        "    predictions.append(yhat)\n",
        "  \n",
        "  return predictions\n",
        "\n",
        "def rmse_metric(actual, predicted):\n",
        " sum_error = 0.0\n",
        " for i in range(len(actual)):\n",
        "  prediction_error = predicted[i] - actual[i]\n",
        "  sum_error += (prediction_error ** 2)\n",
        " mean_error = sum_error / float(len(actual))\n",
        " return sqrt(mean_error)\n",
        " \n",
        "\n",
        "def evaluate_algorithm(y_true,y_pred): \n",
        " \n",
        " return rmse_metric(test[1], y_pred)"
      ],
      "metadata": {
        "id": "Ge3UT5zSF4dF"
      },
      "execution_count": null,
      "outputs": []
    },
    {
      "cell_type": "code",
      "source": [
        "train = np.stack((ages, charges))\n",
        "test = np.stack((test_ages, test_charges))\n",
        "predicted=prediction(train, test)\n",
        "print(\"rmse\",evaluate_algorithm(test[1],predicted))\n"
      ],
      "metadata": {
        "colab": {
          "base_uri": "https://localhost:8080/"
        },
        "id": "PQ6wyw1WGPZw",
        "outputId": "2f5173da-060a-4ad2-962c-287019083163"
      },
      "execution_count": null,
      "outputs": [
        {
          "output_type": "stream",
          "name": "stdout",
          "text": [
            "corr 5.952851111111139\n",
            "varaince 623.5555555555554\n",
            "coef, intercept,  7.967667594440485 0.009546625089094844\n",
            "rmse 12.934971908683014\n"
          ]
        }
      ]
    },
    {
      "cell_type": "markdown",
      "source": [
        "re-checking with the builtin sklearn libraries"
      ],
      "metadata": {
        "id": "CNriieyLUUTL"
      }
    },
    {
      "cell_type": "code",
      "source": [
        "from sklearn.linear_model import LinearRegression\n",
        "X=train[0].reshape(-1,1)\n",
        "Y=train[1].reshape(-1,1)\n",
        "reg = LinearRegression().fit(X, Y)\n",
        "predicted=reg.predict(test[0].reshape(-1,1))\n",
        "print(\"rmse\",evaluate_algorithm(test[1],predicted))"
      ],
      "metadata": {
        "colab": {
          "base_uri": "https://localhost:8080/"
        },
        "id": "uFdIdjBtR65l",
        "outputId": "d8696e4a-8c95-4eba-a984-1d073414e918"
      },
      "execution_count": null,
      "outputs": [
        {
          "output_type": "stream",
          "name": "stdout",
          "text": [
            "rmse 12.934971908683016\n"
          ]
        }
      ]
    },
    {
      "cell_type": "code",
      "source": [
        "train = np.stack((claims, charges))\n",
        "test = np.stack((test_claims, test_charges))\n",
        "predicted=prediction(train, test)\n",
        "print(\"rmse\",evaluate_algorithm(test[1],predicted))"
      ],
      "metadata": {
        "colab": {
          "base_uri": "https://localhost:8080/"
        },
        "id": "LPaf-YK-Hgpz",
        "outputId": "a683e3f0-6cce-4ccb-fde3-de7e22d3c714"
      },
      "execution_count": null,
      "outputs": [
        {
          "output_type": "stream",
          "name": "stdout",
          "text": [
            "corr 352.8820333333333\n",
            "varaince 351.99999999999994\n",
            "coef, intercept,  0.5798568244949491 1.0025057765151517\n",
            "rmse 0.28952980495788494\n"
          ]
        }
      ]
    },
    {
      "cell_type": "code",
      "source": [
        "from sklearn.linear_model import LinearRegression\n",
        "X=train[0].reshape(-1,1)\n",
        "Y=train[1].reshape(-1,1)\n",
        "reg = LinearRegression().fit(X, Y)\n",
        "predicted=reg.predict(test[0].reshape(-1,1))\n",
        "print(\"rmse\",evaluate_algorithm(test[1],predicted))\n",
        "print(\"coef\",reg.coef_)\n",
        "print(\"intercept\",reg.intercept_)"
      ],
      "metadata": {
        "colab": {
          "base_uri": "https://localhost:8080/"
        },
        "id": "HVvUb2vZSOxZ",
        "outputId": "cd9d4454-116b-44f6-e42b-598d527498e1"
      },
      "execution_count": null,
      "outputs": [
        {
          "output_type": "stream",
          "name": "stdout",
          "text": [
            "rmse 0.2895298049578821\n",
            "coef [[1.00250578]]\n",
            "intercept [0.57985682]\n"
          ]
        }
      ]
    },
    {
      "cell_type": "markdown",
      "source": [
        "###Interview Question"
      ],
      "metadata": {
        "id": "Yzr1vqkUS8d1"
      }
    },
    {
      "cell_type": "markdown",
      "source": [
        "###1. What are the important assumptions of Linear regression?\n",
        "\n",
        "A linear relationship Restricted Multi-collinearity value Homoscedasticity\n",
        "\n",
        "Firstly, there has to be a linear relationship between the dependent and the independent variables. To check this relationship, a scatter plot proves to be useful.\n",
        "\n",
        "Secondly, there must no or very little multi-collinearity between the independent variables in the dataset. The value needs to be restricted, which depends on the domain requirement.\n",
        "\n",
        "The third is the homoscedasticity. It is one of the most important assumptions which states that the errors are equally distributed."
      ],
      "metadata": {
        "id": "mJ_hc5qXS_Ki"
      }
    },
    {
      "cell_type": "markdown",
      "source": [
        "###2. What is Homoscedasticity?\n",
        "\n",
        "\n",
        "Homoscedasticity, or homogeneity of variances, is an assumption of equal or similar variances in different groups being compared. This is an important assumption of parametric statistical tests because they are sensitive to any dissimilarities. Uneven variances in samples result in biased and skewed test results."
      ],
      "metadata": {
        "id": "7djfCSwrTMpM"
      }
    },
    {
      "cell_type": "markdown",
      "source": [
        "###3. What is heteroscedasticity?\n",
        "\n",
        "Heteroscedasticity is exactly the opposite of homoscedasticity, which means that the error terms are not equally distributed. To correct this phenomenon, usually, a log function is used."
      ],
      "metadata": {
        "id": "ln44-2W3TkVd"
      }
    },
    {
      "cell_type": "markdown",
      "source": [
        "##4. What is the difference between R square and adjusted R square?\n",
        "\n",
        "In linear regression, you use both these values for model validation. However, there is a clear distinction between the two. R square accounts for the variation of all independent variables on the dependent variable. In other words, it considers each independent variable for explaining the variation. In the case of Adjusted R square, it accounts for the significant variables alone for indicating the percentage of variation in the model. By significant, we refer to the P values less than 0.05."
      ],
      "metadata": {
        "id": "EnY5zKyiTojq"
      }
    },
    {
      "cell_type": "markdown",
      "source": [
        "###5. What are the possible ways of improving the accuracy of a linear regression model?\n",
        "\n",
        "There could be multiple ways of improving the accuracy of a linear regression, most commonly used ways are as follows:\n",
        "\n",
        "Outlier Treatment:\n",
        "-Regression is sensitive to outliers, hence it becomes very important to treat the outliers with appropriate values. Replacing the values with mean, median, mode or percentile depending on the distribution can prove to be useful."
      ],
      "metadata": {
        "id": "GZacp5yNT1Mm"
      }
    },
    {
      "cell_type": "markdown",
      "source": [
        "###6. What are the disadvantages of the linear model?\n",
        "\n",
        "– Linear regression is sensitive to outliers which may affect the result.\n",
        "\n",
        "– Over-fitting\n",
        "\n",
        "– Under-fitting"
      ],
      "metadata": {
        "id": "pBuGyO6cUB4P"
      }
    },
    {
      "cell_type": "markdown",
      "source": [
        "### 7. How do you interpret a Q-Q plot in a linear regression model?\n",
        "\n",
        "As the name suggests, the Q-Q plot is a graphical plotting of the quantiles of two distributions with respect to each other. In other words, you plot quantiles against quantiles.\n",
        "\n",
        "Whenever you interpret a Q-Q plot, you should concentrate on the ‘y = x’ line. You also call it the 45-degree line in statistics. It entails that each of your distributions has the same quantiles. In case you witness a deviation from this line, one of the distributions could be skewed when compared to the other."
      ],
      "metadata": {
        "id": "6tNtf79yU_tP"
      }
    },
    {
      "cell_type": "markdown",
      "source": [
        "###8.    What is the importance of the F-test in a linear model?\n",
        "The F-test is a crucial one in the sense that it tests the goodness of the model. When you reiterate the model to improve the accuracy with the changes, the F-test proves its utility in understanding the effect of the overall regression."
      ],
      "metadata": {
        "id": "AsEd44s6VJVl"
      }
    }
  ]
}